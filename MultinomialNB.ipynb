{
 "cells": [
  {
   "cell_type": "markdown",
   "id": "58a7909a-d56d-4693-99de-890b64ddef59",
   "metadata": {},
   "source": [
    "## Read dataset"
   ]
  },
  {
   "cell_type": "code",
   "execution_count": 1,
   "id": "3f59b4e7-a7e3-4be8-92c5-53f49969a394",
   "metadata": {},
   "outputs": [
    {
     "name": "stdout",
     "output_type": "stream",
     "text": [
      "Jumlah Data: 1545\n",
      "Jumlah NA: 0\n",
      "Data Berlabel: 1545\n"
     ]
    }
   ],
   "source": [
    "# import libraries\n",
    "from sql_functions import *\n",
    "from pandas import DataFrame\n",
    "import pickle\n",
    "import nltk\n",
    "import re\n",
    "\n",
    "# query data\n",
    "columns = [\"shortcode\",\"caption\",\"label\"]\n",
    "data = query_all(columns,exclude_none=\"caption\")\n",
    "data.head(10)\n",
    "\n",
    "# hitung jumlah baris\n",
    "na = data['label'].isna().sum()\n",
    "print(\"Jumlah Data:\",data.shape[0])\n",
    "print(\"Jumlah NA:\",na)\n",
    "print(\"Data Berlabel:\",data.shape[0]-na)"
   ]
  },
  {
   "cell_type": "markdown",
   "id": "01ab11c7-b574-4b88-9741-d46d1464db48",
   "metadata": {},
   "source": [
    "## Do text preprocessing"
   ]
  },
  {
   "cell_type": "code",
   "execution_count": 2,
   "id": "01a2e62b-d30c-4027-9d07-883c818b627a",
   "metadata": {},
   "outputs": [
    {
     "name": "stderr",
     "output_type": "stream",
     "text": [
      "[nltk_data] Downloading package stopwords to C:\\Users\\Ekky\n",
      "[nltk_data]     Armandi\\AppData\\Roaming\\nltk_data...\n",
      "[nltk_data]   Package stopwords is already up-to-date!\n"
     ]
    }
   ],
   "source": [
    "nltk.download(\"stopwords\")\n",
    "from nltk.corpus import stopwords"
   ]
  },
  {
   "cell_type": "code",
   "execution_count": 3,
   "id": "02cf9036-78f7-422d-b8f7-04f25c86126d",
   "metadata": {},
   "outputs": [
    {
     "data": {
      "text/html": [
       "<div>\n",
       "<style scoped>\n",
       "    .dataframe tbody tr th:only-of-type {\n",
       "        vertical-align: middle;\n",
       "    }\n",
       "\n",
       "    .dataframe tbody tr th {\n",
       "        vertical-align: top;\n",
       "    }\n",
       "\n",
       "    .dataframe thead th {\n",
       "        text-align: right;\n",
       "    }\n",
       "</style>\n",
       "<table border=\"1\" class=\"dataframe\">\n",
       "  <thead>\n",
       "    <tr style=\"text-align: right;\">\n",
       "      <th></th>\n",
       "      <th>shortcode</th>\n",
       "      <th>caption</th>\n",
       "      <th>label</th>\n",
       "      <th>tokenized</th>\n",
       "    </tr>\n",
       "  </thead>\n",
       "  <tbody>\n",
       "    <tr>\n",
       "      <th>0</th>\n",
       "      <td>CdkKXK9p7hOdKxgtry4sggDIJtX94oAjuaEvz00</td>\n",
       "      <td>Nama barang : sepatu size 37\\nKondisi : new bl...</td>\n",
       "      <td>AVAIL</td>\n",
       "      <td>nama barang sepatu size 37 kondisi new blm dip...</td>\n",
       "    </tr>\n",
       "    <tr>\n",
       "      <th>1</th>\n",
       "      <td>CdkJy3Mp6N68qiy4Vk4vpat0dolAzLmdyxViMw0</td>\n",
       "      <td>⛔️SUDAH TERJUAL⛔️ \\n\\nNama barang : tas\\nKondi...</td>\n",
       "      <td>SOLD</td>\n",
       "      <td>terjual nama barang tas kondisi new blm dipaka...</td>\n",
       "    </tr>\n",
       "    <tr>\n",
       "      <th>2</th>\n",
       "      <td>CdkJlJmpzRLEaFIxrn3FMQprY5ulloR_lnpC_40</td>\n",
       "      <td>Nama barang : VANS SLIP ON BLACK CLASSIC 7 us ...</td>\n",
       "      <td>AVAIL</td>\n",
       "      <td>nama barang vans slip on black classic 7 us 39...</td>\n",
       "    </tr>\n",
       "    <tr>\n",
       "      <th>3</th>\n",
       "      <td>CdkIIy3JjxkwSGSppwD-g4r21Ws80rAeNSXFYU0</td>\n",
       "      <td>⛔️SUDAH TERJUAL⛔️ \\n\\nDijual : Tiket nonton KK...</td>\n",
       "      <td>SOLD</td>\n",
       "      <td>terjual dijual tiket nonton kkn desa penari un...</td>\n",
       "    </tr>\n",
       "    <tr>\n",
       "      <th>4</th>\n",
       "      <td>Cdj-myspRqPPpfoGbjGV8RmyYgiNVrehExaVo40</td>\n",
       "      <td>⛔️SUDAH TERJUAL⛔️ \\n\\nNama barang: Pen tablet ...</td>\n",
       "      <td>SOLD</td>\n",
       "      <td>terjual nama barang pen tablet drawing pad hui...</td>\n",
       "    </tr>\n",
       "    <tr>\n",
       "      <th>5</th>\n",
       "      <td>Cdj-Qtwp6hQe589X95b9akSYwQZKN4dIeH-ArQ0</td>\n",
       "      <td>1. Nama barang : Bruklat hitam fit to L\\nKondi...</td>\n",
       "      <td>AVAIL</td>\n",
       "      <td>1 nama barang bruklat hitam fit to l kondisi b...</td>\n",
       "    </tr>\n",
       "    <tr>\n",
       "      <th>6</th>\n",
       "      <td>Cdj99kDJ1EIscvToboJ2lR3cOVz6_PPgNhbhCY0</td>\n",
       "      <td>Nama barang : Sepatu Heels Payless VE Janine\\n...</td>\n",
       "      <td>AVAIL</td>\n",
       "      <td>nama barang sepatu heels payless ve janine war...</td>\n",
       "    </tr>\n",
       "    <tr>\n",
       "      <th>7</th>\n",
       "      <td>Cdj6_M0JF6eVSkOcLvfUeMZvwW20NUG0qORlGY0</td>\n",
       "      <td>Nama Barang : ip xr 64gb red\\nKondisi : mulus ...</td>\n",
       "      <td>AVAIL</td>\n",
       "      <td>nama barang ip xr 64gb red kondisi mulus nomin...</td>\n",
       "    </tr>\n",
       "    <tr>\n",
       "      <th>8</th>\n",
       "      <td>Cdj6lM3JfycyZuqXvsQrgTrgXw3uu0Y6d0jW_00</td>\n",
       "      <td>1. Nama barang : instax square 6\\nKondisi :  d...</td>\n",
       "      <td>AVAIL</td>\n",
       "      <td>1 nama barang instax square 6 kondisi dibeli 2...</td>\n",
       "    </tr>\n",
       "    <tr>\n",
       "      <th>9</th>\n",
       "      <td>CdiqfyCJ1ZqtiPiR-5-rgS4_AD80cFVPPDRnOk0</td>\n",
       "      <td>⛔️SUDAH TERJUAL⛔️ \\n\\nNama barang : Nama Baran...</td>\n",
       "      <td>SOLD</td>\n",
       "      <td>terjual nama barang nama barang iphone 8 64gb ...</td>\n",
       "    </tr>\n",
       "  </tbody>\n",
       "</table>\n",
       "</div>"
      ],
      "text/plain": [
       "                                 shortcode  \\\n",
       "0  CdkKXK9p7hOdKxgtry4sggDIJtX94oAjuaEvz00   \n",
       "1  CdkJy3Mp6N68qiy4Vk4vpat0dolAzLmdyxViMw0   \n",
       "2  CdkJlJmpzRLEaFIxrn3FMQprY5ulloR_lnpC_40   \n",
       "3  CdkIIy3JjxkwSGSppwD-g4r21Ws80rAeNSXFYU0   \n",
       "4  Cdj-myspRqPPpfoGbjGV8RmyYgiNVrehExaVo40   \n",
       "5  Cdj-Qtwp6hQe589X95b9akSYwQZKN4dIeH-ArQ0   \n",
       "6  Cdj99kDJ1EIscvToboJ2lR3cOVz6_PPgNhbhCY0   \n",
       "7  Cdj6_M0JF6eVSkOcLvfUeMZvwW20NUG0qORlGY0   \n",
       "8  Cdj6lM3JfycyZuqXvsQrgTrgXw3uu0Y6d0jW_00   \n",
       "9  CdiqfyCJ1ZqtiPiR-5-rgS4_AD80cFVPPDRnOk0   \n",
       "\n",
       "                                             caption  label  \\\n",
       "0  Nama barang : sepatu size 37\\nKondisi : new bl...  AVAIL   \n",
       "1  ⛔️SUDAH TERJUAL⛔️ \\n\\nNama barang : tas\\nKondi...   SOLD   \n",
       "2  Nama barang : VANS SLIP ON BLACK CLASSIC 7 us ...  AVAIL   \n",
       "3  ⛔️SUDAH TERJUAL⛔️ \\n\\nDijual : Tiket nonton KK...   SOLD   \n",
       "4  ⛔️SUDAH TERJUAL⛔️ \\n\\nNama barang: Pen tablet ...   SOLD   \n",
       "5  1. Nama barang : Bruklat hitam fit to L\\nKondi...  AVAIL   \n",
       "6  Nama barang : Sepatu Heels Payless VE Janine\\n...  AVAIL   \n",
       "7  Nama Barang : ip xr 64gb red\\nKondisi : mulus ...  AVAIL   \n",
       "8  1. Nama barang : instax square 6\\nKondisi :  d...  AVAIL   \n",
       "9  ⛔️SUDAH TERJUAL⛔️ \\n\\nNama barang : Nama Baran...   SOLD   \n",
       "\n",
       "                                           tokenized  \n",
       "0  nama barang sepatu size 37 kondisi new blm dip...  \n",
       "1  terjual nama barang tas kondisi new blm dipaka...  \n",
       "2  nama barang vans slip on black classic 7 us 39...  \n",
       "3  terjual dijual tiket nonton kkn desa penari un...  \n",
       "4  terjual nama barang pen tablet drawing pad hui...  \n",
       "5  1 nama barang bruklat hitam fit to l kondisi b...  \n",
       "6  nama barang sepatu heels payless ve janine war...  \n",
       "7  nama barang ip xr 64gb red kondisi mulus nomin...  \n",
       "8  1 nama barang instax square 6 kondisi dibeli 2...  \n",
       "9  terjual nama barang nama barang iphone 8 64gb ...  "
      ]
     },
     "execution_count": 3,
     "metadata": {},
     "output_type": "execute_result"
    }
   ],
   "source": [
    "def stopwords_removal(word):\n",
    "    filtering = stopwords.words(\"indonesian\",\"english\")\n",
    "    fit = list(filter(lambda x: False if x in filtering else True, word))\n",
    "    return fit\n",
    "    \n",
    "data['tokenized'] = data['caption'].apply(lambda caption: re.findall(\"\\w+\",caption.lower()))\n",
    "data['tokenized'] = data['tokenized'].apply(stopwords_removal)\n",
    "data['tokenized'] = data['tokenized'].apply(lambda words: \" \".join(words))\n",
    "\n",
    "data.head(10)"
   ]
  },
  {
   "cell_type": "code",
   "execution_count": 4,
   "id": "97c6dd52-3c66-41ef-9faf-b6447569050b",
   "metadata": {},
   "outputs": [
    {
     "name": "stdout",
     "output_type": "stream",
     "text": [
      "Barkas Dataset\n"
     ]
    },
    {
     "data": {
      "text/html": [
       "<div>\n",
       "<style scoped>\n",
       "    .dataframe tbody tr th:only-of-type {\n",
       "        vertical-align: middle;\n",
       "    }\n",
       "\n",
       "    .dataframe tbody tr th {\n",
       "        vertical-align: top;\n",
       "    }\n",
       "\n",
       "    .dataframe thead th {\n",
       "        text-align: right;\n",
       "    }\n",
       "</style>\n",
       "<table border=\"1\" class=\"dataframe\">\n",
       "  <thead>\n",
       "    <tr style=\"text-align: right;\">\n",
       "      <th></th>\n",
       "      <th>caption</th>\n",
       "      <th>label</th>\n",
       "    </tr>\n",
       "    <tr>\n",
       "      <th>shortcode</th>\n",
       "      <th></th>\n",
       "      <th></th>\n",
       "    </tr>\n",
       "  </thead>\n",
       "  <tbody>\n",
       "    <tr>\n",
       "      <th>CdkKXK9p7hOdKxgtry4sggDIJtX94oAjuaEvz00</th>\n",
       "      <td>nama barang sepatu size 37 kondisi new blm dip...</td>\n",
       "      <td>AVAIL</td>\n",
       "    </tr>\n",
       "    <tr>\n",
       "      <th>CdkJy3Mp6N68qiy4Vk4vpat0dolAzLmdyxViMw0</th>\n",
       "      <td>terjual nama barang tas kondisi new blm dipaka...</td>\n",
       "      <td>SOLD</td>\n",
       "    </tr>\n",
       "    <tr>\n",
       "      <th>CdkJlJmpzRLEaFIxrn3FMQprY5ulloR_lnpC_40</th>\n",
       "      <td>nama barang vans slip on black classic 7 us 39...</td>\n",
       "      <td>AVAIL</td>\n",
       "    </tr>\n",
       "    <tr>\n",
       "      <th>CdkIIy3JjxkwSGSppwD-g4r21Ws80rAeNSXFYU0</th>\n",
       "      <td>terjual dijual tiket nonton kkn desa penari un...</td>\n",
       "      <td>SOLD</td>\n",
       "    </tr>\n",
       "    <tr>\n",
       "      <th>Cdj-myspRqPPpfoGbjGV8RmyYgiNVrehExaVo40</th>\n",
       "      <td>terjual nama barang pen tablet drawing pad hui...</td>\n",
       "      <td>SOLD</td>\n",
       "    </tr>\n",
       "    <tr>\n",
       "      <th>Cdj-Qtwp6hQe589X95b9akSYwQZKN4dIeH-ArQ0</th>\n",
       "      <td>1 nama barang bruklat hitam fit to l kondisi b...</td>\n",
       "      <td>AVAIL</td>\n",
       "    </tr>\n",
       "    <tr>\n",
       "      <th>Cdj99kDJ1EIscvToboJ2lR3cOVz6_PPgNhbhCY0</th>\n",
       "      <td>nama barang sepatu heels payless ve janine war...</td>\n",
       "      <td>AVAIL</td>\n",
       "    </tr>\n",
       "    <tr>\n",
       "      <th>Cdj6_M0JF6eVSkOcLvfUeMZvwW20NUG0qORlGY0</th>\n",
       "      <td>nama barang ip xr 64gb red kondisi mulus nomin...</td>\n",
       "      <td>AVAIL</td>\n",
       "    </tr>\n",
       "    <tr>\n",
       "      <th>Cdj6lM3JfycyZuqXvsQrgTrgXw3uu0Y6d0jW_00</th>\n",
       "      <td>1 nama barang instax square 6 kondisi dibeli 2...</td>\n",
       "      <td>AVAIL</td>\n",
       "    </tr>\n",
       "    <tr>\n",
       "      <th>CdiqfyCJ1ZqtiPiR-5-rgS4_AD80cFVPPDRnOk0</th>\n",
       "      <td>terjual nama barang nama barang iphone 8 64gb ...</td>\n",
       "      <td>SOLD</td>\n",
       "    </tr>\n",
       "  </tbody>\n",
       "</table>\n",
       "</div>"
      ],
      "text/plain": [
       "                                                                                   caption  \\\n",
       "shortcode                                                                                    \n",
       "CdkKXK9p7hOdKxgtry4sggDIJtX94oAjuaEvz00  nama barang sepatu size 37 kondisi new blm dip...   \n",
       "CdkJy3Mp6N68qiy4Vk4vpat0dolAzLmdyxViMw0  terjual nama barang tas kondisi new blm dipaka...   \n",
       "CdkJlJmpzRLEaFIxrn3FMQprY5ulloR_lnpC_40  nama barang vans slip on black classic 7 us 39...   \n",
       "CdkIIy3JjxkwSGSppwD-g4r21Ws80rAeNSXFYU0  terjual dijual tiket nonton kkn desa penari un...   \n",
       "Cdj-myspRqPPpfoGbjGV8RmyYgiNVrehExaVo40  terjual nama barang pen tablet drawing pad hui...   \n",
       "Cdj-Qtwp6hQe589X95b9akSYwQZKN4dIeH-ArQ0  1 nama barang bruklat hitam fit to l kondisi b...   \n",
       "Cdj99kDJ1EIscvToboJ2lR3cOVz6_PPgNhbhCY0  nama barang sepatu heels payless ve janine war...   \n",
       "Cdj6_M0JF6eVSkOcLvfUeMZvwW20NUG0qORlGY0  nama barang ip xr 64gb red kondisi mulus nomin...   \n",
       "Cdj6lM3JfycyZuqXvsQrgTrgXw3uu0Y6d0jW_00  1 nama barang instax square 6 kondisi dibeli 2...   \n",
       "CdiqfyCJ1ZqtiPiR-5-rgS4_AD80cFVPPDRnOk0  terjual nama barang nama barang iphone 8 64gb ...   \n",
       "\n",
       "                                         label  \n",
       "shortcode                                       \n",
       "CdkKXK9p7hOdKxgtry4sggDIJtX94oAjuaEvz00  AVAIL  \n",
       "CdkJy3Mp6N68qiy4Vk4vpat0dolAzLmdyxViMw0   SOLD  \n",
       "CdkJlJmpzRLEaFIxrn3FMQprY5ulloR_lnpC_40  AVAIL  \n",
       "CdkIIy3JjxkwSGSppwD-g4r21Ws80rAeNSXFYU0   SOLD  \n",
       "Cdj-myspRqPPpfoGbjGV8RmyYgiNVrehExaVo40   SOLD  \n",
       "Cdj-Qtwp6hQe589X95b9akSYwQZKN4dIeH-ArQ0  AVAIL  \n",
       "Cdj99kDJ1EIscvToboJ2lR3cOVz6_PPgNhbhCY0  AVAIL  \n",
       "Cdj6_M0JF6eVSkOcLvfUeMZvwW20NUG0qORlGY0  AVAIL  \n",
       "Cdj6lM3JfycyZuqXvsQrgTrgXw3uu0Y6d0jW_00  AVAIL  \n",
       "CdiqfyCJ1ZqtiPiR-5-rgS4_AD80cFVPPDRnOk0   SOLD  "
      ]
     },
     "metadata": {},
     "output_type": "display_data"
    },
    {
     "name": "stdout",
     "output_type": "stream",
     "text": [
      "(1545, 2)\n",
      "\n",
      "Barkas Data Types\n"
     ]
    },
    {
     "data": {
      "text/plain": [
       "caption      string\n",
       "label      category\n",
       "dtype: object"
      ]
     },
     "execution_count": 4,
     "metadata": {},
     "output_type": "execute_result"
    }
   ],
   "source": [
    "barkas = data[['shortcode','tokenized','label']]\n",
    "barkas = barkas.set_index('shortcode')\n",
    "barkas = barkas.astype({'tokenized': 'string', 'label': 'category'})\n",
    "barkas.columns = ['caption','label']\n",
    "no_label = barkas[barkas['label'].isna()]\n",
    "barkas = barkas.dropna(subset=\"label\")\n",
    "\n",
    "print(\"Barkas Dataset\")\n",
    "display(barkas.head(10))\n",
    "print(barkas.shape)\n",
    "\n",
    "print(\"\\nBarkas Data Types\")\n",
    "barkas.dtypes"
   ]
  },
  {
   "cell_type": "code",
   "execution_count": 5,
   "id": "915b46c4-21b0-45cc-83f3-d67b2ca4fc25",
   "metadata": {},
   "outputs": [],
   "source": [
    "# import ML libraries\n",
    "from sklearn.pipeline import Pipeline\n",
    "from sklearn.model_selection import train_test_split\n",
    "from sklearn.feature_extraction.text import CountVectorizer, TfidfVectorizer\n",
    "from sklearn.naive_bayes import MultinomialNB\n",
    "from sklearn.metrics import accuracy_score\n",
    "\n",
    "model = Pipeline([\n",
    "    ('tfidf', TfidfVectorizer()),\n",
    "    ('clf', MultinomialNB())\n",
    "])"
   ]
  },
  {
   "cell_type": "markdown",
   "id": "663af65f-2aee-4428-9523-5bdc404df2ba",
   "metadata": {},
   "source": [
    "## Split Dataset"
   ]
  },
  {
   "cell_type": "code",
   "execution_count": 6,
   "id": "f01a044c-6927-448b-8076-e5fc4d954f65",
   "metadata": {},
   "outputs": [
    {
     "name": "stdout",
     "output_type": "stream",
     "text": [
      "X_train shape (1236,)\n",
      "X_test shape (309,)\n"
     ]
    }
   ],
   "source": [
    "X = barkas['caption']\n",
    "y = barkas['label']\n",
    "\n",
    "X_train, X_test, y_train, y_test = train_test_split(X,y,test_size=0.2,random_state=300)\n",
    "\n",
    "print(\"X_train shape\",X_train.shape)\n",
    "print(\"X_test shape\",X_test.shape)"
   ]
  },
  {
   "cell_type": "markdown",
   "id": "60cc086b-ee85-4852-acdc-9ae89633c3a0",
   "metadata": {},
   "source": [
    "## Train the dataset"
   ]
  },
  {
   "cell_type": "code",
   "execution_count": 7,
   "id": "22d9fded-75e5-48dc-a55d-2e80bc572115",
   "metadata": {},
   "outputs": [
    {
     "name": "stdout",
     "output_type": "stream",
     "text": [
      "Tingkat akurasi model: 79.61%\n"
     ]
    }
   ],
   "source": [
    "model.fit(X_train,y_train)\n",
    "y_pred = model.predict(X_test)\n",
    "acr = accuracy_score(y_test,y_pred)\n",
    "\n",
    "print(f\"Tingkat akurasi model: {100*acr:.2f}%\")"
   ]
  },
  {
   "cell_type": "code",
   "execution_count": null,
   "id": "2058ece4-4091-488f-9db9-85c3f421b594",
   "metadata": {},
   "outputs": [],
   "source": [
    "# no_label['predicted'] = model.predict(no_label['caption'])\n",
    "# no_label"
   ]
  },
  {
   "cell_type": "markdown",
   "id": "8a3067e1-e682-4fed-9dda-7b264cb9ec99",
   "metadata": {},
   "source": [
    "## Export the model"
   ]
  },
  {
   "cell_type": "code",
   "execution_count": 9,
   "id": "ff3ce43c-373a-406c-b3e9-969d5da0880f",
   "metadata": {},
   "outputs": [],
   "source": [
    "pickle.dump(model,open(\"NB_model.pkl\",\"wb\"))"
   ]
  },
  {
   "cell_type": "code",
   "execution_count": null,
   "id": "1e56fb3e-2eaa-4181-8efb-c5ff04c0de40",
   "metadata": {},
   "outputs": [],
   "source": []
  }
 ],
 "metadata": {
  "interpreter": {
   "hash": "150e6243a0d715e18cb5785684347af833dfdf4e0d1afb4bd640676795329564"
  },
  "kernelspec": {
   "display_name": "Python 3.9.10 64-bit",
   "language": "python",
   "name": "python3"
  },
  "language_info": {
   "codemirror_mode": {
    "name": "ipython",
    "version": 3
   },
   "file_extension": ".py",
   "mimetype": "text/x-python",
   "name": "python",
   "nbconvert_exporter": "python",
   "pygments_lexer": "ipython3",
   "version": "3.9.10"
  }
 },
 "nbformat": 4,
 "nbformat_minor": 5
}
